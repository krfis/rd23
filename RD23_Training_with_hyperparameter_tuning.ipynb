{
  "nbformat": 4,
  "nbformat_minor": 0,
  "metadata": {
    "colab": {
      "provenance": [],
      "gpuType": "T4",
      "authorship_tag": "ABX9TyMggMTWXlz/HZm/iJDJ8yIl",
      "include_colab_link": true
    },
    "kernelspec": {
      "name": "python3",
      "display_name": "Python 3"
    },
    "language_info": {
      "name": "python"
    },
    "accelerator": "GPU"
  },
  "cells": [
    {
      "cell_type": "markdown",
      "metadata": {
        "id": "view-in-github",
        "colab_type": "text"
      },
      "source": [
        "<a href=\"https://colab.research.google.com/github/krfis/rd23/blob/main/RD23_Training_with_hyperparameter_tuning.ipynb\" target=\"_parent\"><img src=\"https://colab.research.google.com/assets/colab-badge.svg\" alt=\"Open In Colab\"/></a>"
      ]
    },
    {
      "cell_type": "code",
      "execution_count": null,
      "metadata": {
        "id": "XzwOHSFwRrWr"
      },
      "outputs": [],
      "source": [
        "!pip install simpletransformers\n",
        "!pip freeze | grep simpletransformers"
      ]
    },
    {
      "cell_type": "code",
      "source": [
        "import pandas as pd\n",
        "import numpy as np\n",
        "import csv\n",
        "import os\n",
        "import glob\n",
        "import logging\n",
        "import wandb\n",
        "import pprint\n",
        "\n",
        "from sklearn.metrics import confusion_matrix, classification_report, precision_score, accuracy_score, f1_score\n",
        "from sklearn.model_selection import train_test_split\n",
        "from sklearn.utils import shuffle\n",
        "from simpletransformers.classification import ClassificationModel, ClassificationArgs\n",
        "from psutil import virtual_memory"
      ],
      "metadata": {
        "id": "kYOQAp3FRxao"
      },
      "execution_count": null,
      "outputs": []
    },
    {
      "cell_type": "code",
      "source": [
        "gpu_info = !nvidia-smi\n",
        "gpu_info = '\\n'.join(gpu_info)\n",
        "if gpu_info.find('failed') >= 0:\n",
        "  print('Not connected to a GPU')\n",
        "else:\n",
        "  print(gpu_info)"
      ],
      "metadata": {
        "id": "keOD19nOC0Zc"
      },
      "execution_count": null,
      "outputs": []
    },
    {
      "cell_type": "code",
      "source": [
        "ram_gb = virtual_memory().total / 1e9\n",
        "print('Your runtime has {:.1f} gigabytes of available RAM\\n'.format(ram_gb))\n",
        "\n",
        "if ram_gb < 20:\n",
        "  print('Not using a high-RAM runtime')\n",
        "else:\n",
        "  print('You are using a high-RAM runtime!')"
      ],
      "metadata": {
        "id": "PM2ik3NIC8Sb"
      },
      "execution_count": null,
      "outputs": []
    },
    {
      "cell_type": "code",
      "source": [
        "!git clone https://github.com/krfis/rd23.git"
      ],
      "metadata": {
        "id": "cDomWEYFRzgw"
      },
      "execution_count": null,
      "outputs": []
    },
    {
      "cell_type": "code",
      "source": [
        "def get_files(path):\n",
        "  \"\"\"Getting dataframes from path\n",
        "\n",
        "  Returns: a dictionary of dataframes {name : dataframe}\n",
        "  \"\"\"\n",
        "\n",
        "  tsv_files = glob.glob(os.path.join(path, '*.tsv'))\n",
        "  dataframes = {}\n",
        "\n",
        "  for path in tsv_files:\n",
        "\n",
        "    file_name = os.path.splitext(os.path.basename(path))[0]\n",
        "    df = pd.read_csv(path, sep=\"\\t\")\n",
        "    column_order = [\"text\", \"sentiment\", \"lang\", \"num_tokens\"]\n",
        "    df = df[column_order]\n",
        "    dataframes[file_name] = df\n",
        "\n",
        "    print(f'Writing content of {file_name}...')\n",
        "\n",
        "  return dataframes"
      ],
      "metadata": {
        "id": "GSqPEVFuR0po"
      },
      "execution_count": null,
      "outputs": []
    },
    {
      "cell_type": "code",
      "source": [
        "folder_path = \"/content/rd23/final\""
      ],
      "metadata": {
        "id": "ngQPu2yiR1p3"
      },
      "execution_count": null,
      "outputs": []
    },
    {
      "cell_type": "code",
      "source": [
        "all_dfs = get_files(folder_path)  # dict of all dfs"
      ],
      "metadata": {
        "id": "XglKwNoJR2fg"
      },
      "execution_count": null,
      "outputs": []
    },
    {
      "cell_type": "code",
      "source": [
        "all_dfs.keys()  # available data sets"
      ],
      "metadata": {
        "id": "psp0-x1SR3jH"
      },
      "execution_count": null,
      "outputs": []
    },
    {
      "cell_type": "markdown",
      "source": [
        "# Data sets"
      ],
      "metadata": {
        "id": "iEuR_nq_xCiu"
      }
    },
    {
      "cell_type": "code",
      "source": [
        "k2_train = all_dfs[\"k2_train\"]\n",
        "k4_train = all_dfs[\"k4_train\"]\n",
        "k8_train = all_dfs[\"k8_train\"]\n",
        "k16_train = all_dfs[\"k16_train\"]\n",
        "k32_train = all_dfs[\"k32_train\"]\n",
        "few_test_only = all_dfs[\"few_test_only\"]\n",
        "est_dev = all_dfs[\"dev_est\"]\n",
        "est_test = all_dfs[\"test_est\"]\n",
        "zero_train = all_dfs[\"fs_balanced\"]\n",
        "evc_balanced = all_dfs[\"evc_balanced\"]"
      ],
      "metadata": {
        "id": "8JRYOc-4CTj7"
      },
      "execution_count": null,
      "outputs": []
    },
    {
      "cell_type": "code",
      "source": [
        "# for baseline\n",
        "\n",
        "base_train, base_test_all = train_test_split(evc_balanced, test_size=0.2, random_state=1)  # train-test split for baseline\n",
        "base_dev, base_test = train_test_split(base_test_all, test_size=0.5, random_state=1)  # test-dev split for baseline"
      ],
      "metadata": {
        "id": "7Yf2Si2pXp0f"
      },
      "execution_count": null,
      "outputs": []
    },
    {
      "cell_type": "code",
      "source": [
        "# for zero-shot and few-shot\n",
        "\n",
        "few_dev, few_test = train_test_split(few_test_only, test_size=0.5, random_state=1)"
      ],
      "metadata": {
        "id": "SRamMiOvY5SO"
      },
      "execution_count": null,
      "outputs": []
    },
    {
      "cell_type": "code",
      "source": [
        "k2_train = shuffle(k2_train)\n",
        "k4_train = shuffle(k4_train)\n",
        "k8_train = shuffle(k8_train)\n",
        "k16_train = shuffle(k16_train)\n",
        "k32_train = shuffle(k32_train)\n",
        "base_train = shuffle(base_train)\n",
        "base_dev = shuffle(base_dev)\n",
        "base_test = shuffle(base_test)\n",
        "few_dev = shuffle(few_dev)\n",
        "few_test = shuffle(few_test)"
      ],
      "metadata": {
        "id": "4iMCDVak2zv5"
      },
      "execution_count": null,
      "outputs": []
    },
    {
      "cell_type": "markdown",
      "source": [
        "# Model"
      ],
      "metadata": {
        "id": "MGj_sG_iSK-c"
      }
    },
    {
      "cell_type": "code",
      "source": [
        "sweep_config = {\n",
        "    \"method\" : \"grid\",\n",
        "    \"parameters\" : {\n",
        "        \"num_train_epochs\" : {\"values\" : [2, 3, 4]},\n",
        "        \"learning_rate\" : {\"values\" : [5e-5, 3e-5, 2e-5]},\n",
        "    },\n",
        "}"
      ],
      "metadata": {
        "id": "Towl_RCgSRt5"
      },
      "execution_count": null,
      "outputs": []
    },
    {
      "cell_type": "code",
      "source": [
        "sweep_id = wandb.sweep(sweep_config, project=\"rd23-final-runs\")"
      ],
      "metadata": {
        "id": "M3F0P_3USxwj"
      },
      "execution_count": null,
      "outputs": []
    },
    {
      "cell_type": "code",
      "source": [
        "logging.basicConfig(level=logging.INFO)\n",
        "transformers_logger = logging.getLogger(\"transformers\")\n",
        "transformers_logger.setLevel(logging.WARNING)"
      ],
      "metadata": {
        "id": "PCvZGBLEXsH3"
      },
      "execution_count": null,
      "outputs": []
    },
    {
      "cell_type": "code",
      "source": [
        "diff = ['õ', 'ô', 'ā', '·', 'š', 'е', '§', '|', 'а', '́', 'Š', 'ò', 'о', 'Õ', 'à', 'Ü', '}', '•', 'д', '~', 'ž', '°', '−', '\\\\', '{', 'и', 'ó', 'á']  # characters not in FinBERT"
      ],
      "metadata": {
        "id": "Wa6DrtcTqddQ"
      },
      "execution_count": null,
      "outputs": []
    },
    {
      "cell_type": "code",
      "source": [
        "# fixed hyperparameters\n",
        "\n",
        "train_args = {\n",
        "    \"reprocess_input_data\" : True,\n",
        "    \"overwrite_output_dir\" : True,\n",
        "    \"evaluate_during_training\" : True,\n",
        "    \"evaluate_during_training_silent\" : False,\n",
        "    \"evaluate_during_training_steps\" : -1,\n",
        "    \"save_eval_checkpoints\" : False,\n",
        "    \"save_model_every_epoch\" : False,\n",
        "    \"manual_seed\" : 4,\n",
        "    \"use_multiprocessing\" : True,\n",
        "    \"multiprocessing_chunksize\" : 5000,\n",
        "    \"no_cache\" : True,\n",
        "    \"train_custom_parameters_only\" : False,\n",
        "    \"fp16\" : False,\n",
        "    \"train_batch_size\" : 16,\n",
        "    \"eval_batch_size\" : 16,\n",
        "    \"max_seq_length\" : 128,\n",
        "    \"labels_list\" : [\"negative\", \"positive\"],\n",
        "    \"wandb_project\" : \"rd23-final-runs\",\n",
        "    \"skip_special_tokens\" : False,\n",
        "    \"special_tokens_list\" : diff\n",
        "}"
      ],
      "metadata": {
        "id": "d3wDbGoUE9GA"
      },
      "execution_count": null,
      "outputs": []
    },
    {
      "cell_type": "code",
      "source": [
        "print(f'Hyperparameter search: {sweep_config}')"
      ],
      "metadata": {
        "id": "RA2tlSo6Jqzk"
      },
      "execution_count": null,
      "outputs": []
    },
    {
      "cell_type": "markdown",
      "source": [
        "## Training and model selection"
      ],
      "metadata": {
        "id": "k2g10ncAbuTk"
      }
    },
    {
      "cell_type": "code",
      "source": [
        "def train():\n",
        "\n",
        "  wandb.init()\n",
        "\n",
        "  model = ClassificationModel(\n",
        "    \"bert\", \"TurkuNLP/bert-base-finnish-cased-v1\",\n",
        "    num_labels = 2,\n",
        "    args = train_args,\n",
        "    use_cuda = True,\n",
        "    sweep_config=wandb.config\n",
        ")\n",
        "\n",
        "  model.train_model(k32_train, eval_df=est_dev, dev_accuracy=lambda truth, predictions: accuracy_score(\n",
        "      truth, [round(p) for p in predictions]))\n",
        "\n",
        "  wandb.join()"
      ],
      "metadata": {
        "id": "QWx19voJU5Lb"
      },
      "execution_count": null,
      "outputs": []
    },
    {
      "cell_type": "code",
      "source": [
        "wandb.agent(sweep_id, function=train)  # train and sync with wandb"
      ],
      "metadata": {
        "id": "Yqjf3GYaV_Nu"
      },
      "execution_count": null,
      "outputs": []
    },
    {
      "cell_type": "markdown",
      "source": [
        "## Testing"
      ],
      "metadata": {
        "id": "RzohpIYibypA"
      }
    },
    {
      "cell_type": "code",
      "source": [
        "result, model_outputs, wrong_predictions = model.eval_model(est_test, verbose=True,\n",
        "                                                                 test_accuracy=lambda truth, predictions: accuracy_score(truth, [round(p) for p in predictions]),\n",
        "                                                                 f1_score=lambda truth, predictions: f1_score(truth, [round(p) for p in predictions]),\n",
        "                                                                 precision_score=lambda truth, predictions: precision_score(truth, [round(p) for p in predictions])\n",
        "                                                                 )"
      ],
      "metadata": {
        "id": "tELmUlEibq7x"
      },
      "execution_count": null,
      "outputs": []
    }
  ]
}